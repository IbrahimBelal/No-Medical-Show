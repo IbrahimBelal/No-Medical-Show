{
 "cells": [
  {
   "cell_type": "markdown",
   "metadata": {},
   "source": [
    "# Medical No-Show Data Investigate & Visulization\n",
    "\n",
    "Prepared By : [Ibrahim Mohamed Belal](https://www.linkedin.com/in/ibrahim-belal-aaab59a7?lipi=urn%3Ali%3Apage%3Ad_flagship3_profile_view_base_contact_details%3B532MFYzCRmyv%2F8m2bozuaw%3D%3D)\n",
    "<pre>\n",
    "<img style=\"-webkit-user-select: none;margin: auto;background-color: hsl(0, 0%, 90%);transition: background-color 300ms;\" src=\"https://media-exp1.licdn.com/dms/image/C4D03AQGuM_I2rga1Kw/profile-displayphoto-shrink_200_200/0/1625069084447?e=1634169600&amp;v=beta&amp;t=feCfPPGMLWJQTxU4HdJeSqFrkG-Bd3d01EUGHwne9Xg\">\n",
    "</pre>\n",
    "\n",
    "### Table of Contents\n",
    "* [1. Introduction](#1.-Introduction).\n",
    "* [2. Data Wrangling and Assessing](#2.-Data-Wrangling-and-Assessing).\n",
    "    * [2.1. General Properties](#2.1.-General-Properties).\n",
    "    * [2.2. What Finding we have](#2.2.-What-Finding-we-have).\n",
    "* [3. Data Cleaning](#3.-Data-Cleaning).\n",
    "* [4. Exploratory Data Analysis](#4.-Exploratory-Data-Analysis).\n",
    "\t* [4.1. Observation from Histogram](#4.1.-Observation-from-Histogram).\n",
    "    * [4.2. Questions](#4.2.-Questions).\n",
    "        * [4.2.2. Which variable affects the response of patients to attend their appointments?](#4.2.2.-Which-variable-affects-the-response-of-patients-to-attend-their-appointments?).\n",
    "            * [4.2.2.1 Observation for case_severity](#4.2.2.1.-Observation-for-case_severity).\n",
    "            * [4.2.2.2. Patients that Showed up to their appointment & didn't show up?](#4.2.2.2.-Patients-that-Showed-up-to-their-appointment-&-didn't-show-up?).\n",
    "        * [4.2.3. Which factor affects waiting_time if patient gender, patient age, or case_severity?](#4.2.3.-Which-factor-affects-waiting_time-if-patient-gender,-patient-age,-or-case_severity?).\n",
    "        * [4.2.4. Does duplicates in the patient_id column affect data calculation?](#4.2.4.-Does-duplicates-in-the-patient_id-column-affect-data-calculation?).\n",
    "* [5. Final Conclusions](#5.-Final-Conclusions).\n",
    "    * [5.1. Limitations of Data](#5.1.-Limitations-of-Data).\n",
    "    * [5.2. Conclusions about data](#5.2.-Conclusions-about-data).\n",
    "    * [5.3. Answer for Questions](#5.3.-Answer-for-Questions)."
   ]
  },
  {
   "cell_type": "markdown",
   "metadata": {},
   "source": [
    "## 1. Introduction\n",
    "\n",
    "> The medical appointment dataset contains information on over 100k appointments from the country of Brazil. The dataset was originally sourced from Kaggle. It was created to study what factors were useful in predicting if patients would miss their appointments. It contains basic demographic information on the patients as well as whether or not the patient received SMS notifications. In addition, it indicates if the patient received financial aid.\n",
    ">\n",
    "> - [Diabetes](https://en.wikipedia.org/wiki/Diabetes) is a group of metabolic disorders characterized by a high blood sugar level over a prolonged period of time.\n",
    "> \n",
    "> - [Hypertension](https://en.wikipedia.org/wiki/Hypertension) is also known as high blood pressure (HBP), is a long-term medical condition in which the blood pressure in the arteries is persistently elevated.\n",
    "> \n",
    "> - [Alcoholism](https://en.wikipedia.org/wiki/Alcoholism) is broad, any drinking of alcohol that results in significant mental or physical health problems. Alcoholism is not a recognized diagnostic entity. Predominant diagnostic classifications are alcohol use disorder.\n",
    "> \n",
    "> - [Handicap](https://en.wikipedia.org/wiki/Handicap) meaning Disability, an impairment that substantially affects a person's life activities, and may be present at birth or arise later in life.\n",
    ">\n",
    "> - Scholarship - indicates whether or not the patient is enrolled in the [Brazilian welfare program](https://en.wikipedia.org/wiki/Universal_basic_income_in_Brazil), you can see also this [link](https://en.wikipedia.org/wiki/Welfare).\n",
    ">\n",
    "> - Neighborhood - indicates the location of the hospital.\n",
    ">\n",
    "> - ScheduledDay - tells us on what day the patient set up their appointment.\n",
    "\n",
    "\n",
    "   [back to top](#Table-of-Contents)"
   ]
  },
  {
   "cell_type": "markdown",
   "metadata": {},
   "source": [
    "## 2. Data Wrangling and Assessing\n",
    "\n",
    "> In this section of the report, we will import all needed library then load in the data, check our dataset for analysis for any finding need to modify or clean.\n",
    "\n",
    "\n",
    "   [back to top](#Table-of-Contents)"
   ]
  },
  {
   "cell_type": "code",
   "execution_count": 42,
   "metadata": {},
   "outputs": [],
   "source": [
    "import time\n",
    "import pandas as pd\n",
    "import numpy as np\n",
    "import matplotlib.pyplot as plt\n",
    "import seaborn as sns\n",
    "import math\n",
    "import warnings\n",
    "warnings.filterwarnings('ignore')\n",
    "%matplotlib inline\n",
    "from scipy import stats"
   ]
  },
  {
   "cell_type": "markdown",
   "metadata": {},
   "source": [
    "### 2.1. General Properties"
   ]
  },
  {
   "cell_type": "code",
   "execution_count": 43,
   "metadata": {},
   "outputs": [
    {
     "data": {
      "text/html": [
       "<div>\n",
       "<style scoped>\n",
       "    .dataframe tbody tr th:only-of-type {\n",
       "        vertical-align: middle;\n",
       "    }\n",
       "\n",
       "    .dataframe tbody tr th {\n",
       "        vertical-align: top;\n",
       "    }\n",
       "\n",
       "    .dataframe thead th {\n",
       "        text-align: right;\n",
       "    }\n",
       "</style>\n",
       "<table border=\"1\" class=\"dataframe\">\n",
       "  <thead>\n",
       "    <tr style=\"text-align: right;\">\n",
       "      <th></th>\n",
       "      <th>PatientId</th>\n",
       "      <th>AppointmentID</th>\n",
       "      <th>Gender</th>\n",
       "      <th>ScheduledDay</th>\n",
       "      <th>AppointmentDay</th>\n",
       "      <th>Age</th>\n",
       "      <th>Neighbourhood</th>\n",
       "      <th>Scholarship</th>\n",
       "      <th>Hipertension</th>\n",
       "      <th>Diabetes</th>\n",
       "      <th>Alcoholism</th>\n",
       "      <th>Handcap</th>\n",
       "      <th>SMS_received</th>\n",
       "      <th>No-show</th>\n",
       "    </tr>\n",
       "  </thead>\n",
       "  <tbody>\n",
       "    <tr>\n",
       "      <th>0</th>\n",
       "      <td>2.987250e+13</td>\n",
       "      <td>5642903</td>\n",
       "      <td>F</td>\n",
       "      <td>2016-04-29T18:38:08Z</td>\n",
       "      <td>2016-04-29T00:00:00Z</td>\n",
       "      <td>62</td>\n",
       "      <td>JARDIM DA PENHA</td>\n",
       "      <td>0</td>\n",
       "      <td>1</td>\n",
       "      <td>0</td>\n",
       "      <td>0</td>\n",
       "      <td>0</td>\n",
       "      <td>0</td>\n",
       "      <td>No</td>\n",
       "    </tr>\n",
       "    <tr>\n",
       "      <th>1</th>\n",
       "      <td>5.589978e+14</td>\n",
       "      <td>5642503</td>\n",
       "      <td>M</td>\n",
       "      <td>2016-04-29T16:08:27Z</td>\n",
       "      <td>2016-04-29T00:00:00Z</td>\n",
       "      <td>56</td>\n",
       "      <td>JARDIM DA PENHA</td>\n",
       "      <td>0</td>\n",
       "      <td>0</td>\n",
       "      <td>0</td>\n",
       "      <td>0</td>\n",
       "      <td>0</td>\n",
       "      <td>0</td>\n",
       "      <td>No</td>\n",
       "    </tr>\n",
       "    <tr>\n",
       "      <th>2</th>\n",
       "      <td>4.262962e+12</td>\n",
       "      <td>5642549</td>\n",
       "      <td>F</td>\n",
       "      <td>2016-04-29T16:19:04Z</td>\n",
       "      <td>2016-04-29T00:00:00Z</td>\n",
       "      <td>62</td>\n",
       "      <td>MATA DA PRAIA</td>\n",
       "      <td>0</td>\n",
       "      <td>0</td>\n",
       "      <td>0</td>\n",
       "      <td>0</td>\n",
       "      <td>0</td>\n",
       "      <td>0</td>\n",
       "      <td>No</td>\n",
       "    </tr>\n",
       "    <tr>\n",
       "      <th>3</th>\n",
       "      <td>8.679512e+11</td>\n",
       "      <td>5642828</td>\n",
       "      <td>F</td>\n",
       "      <td>2016-04-29T17:29:31Z</td>\n",
       "      <td>2016-04-29T00:00:00Z</td>\n",
       "      <td>8</td>\n",
       "      <td>PONTAL DE CAMBURI</td>\n",
       "      <td>0</td>\n",
       "      <td>0</td>\n",
       "      <td>0</td>\n",
       "      <td>0</td>\n",
       "      <td>0</td>\n",
       "      <td>0</td>\n",
       "      <td>No</td>\n",
       "    </tr>\n",
       "    <tr>\n",
       "      <th>4</th>\n",
       "      <td>8.841186e+12</td>\n",
       "      <td>5642494</td>\n",
       "      <td>F</td>\n",
       "      <td>2016-04-29T16:07:23Z</td>\n",
       "      <td>2016-04-29T00:00:00Z</td>\n",
       "      <td>56</td>\n",
       "      <td>JARDIM DA PENHA</td>\n",
       "      <td>0</td>\n",
       "      <td>1</td>\n",
       "      <td>1</td>\n",
       "      <td>0</td>\n",
       "      <td>0</td>\n",
       "      <td>0</td>\n",
       "      <td>No</td>\n",
       "    </tr>\n",
       "  </tbody>\n",
       "</table>\n",
       "</div>"
      ],
      "text/plain": [
       "      PatientId  AppointmentID Gender          ScheduledDay  \\\n",
       "0  2.987250e+13        5642903      F  2016-04-29T18:38:08Z   \n",
       "1  5.589978e+14        5642503      M  2016-04-29T16:08:27Z   \n",
       "2  4.262962e+12        5642549      F  2016-04-29T16:19:04Z   \n",
       "3  8.679512e+11        5642828      F  2016-04-29T17:29:31Z   \n",
       "4  8.841186e+12        5642494      F  2016-04-29T16:07:23Z   \n",
       "\n",
       "         AppointmentDay  Age      Neighbourhood  Scholarship  Hipertension  \\\n",
       "0  2016-04-29T00:00:00Z   62    JARDIM DA PENHA            0             1   \n",
       "1  2016-04-29T00:00:00Z   56    JARDIM DA PENHA            0             0   \n",
       "2  2016-04-29T00:00:00Z   62      MATA DA PRAIA            0             0   \n",
       "3  2016-04-29T00:00:00Z    8  PONTAL DE CAMBURI            0             0   \n",
       "4  2016-04-29T00:00:00Z   56    JARDIM DA PENHA            0             1   \n",
       "\n",
       "   Diabetes  Alcoholism  Handcap  SMS_received No-show  \n",
       "0         0           0        0             0      No  \n",
       "1         0           0        0             0      No  \n",
       "2         0           0        0             0      No  \n",
       "3         0           0        0             0      No  \n",
       "4         1           0        0             0      No  "
      ]
     },
     "execution_count": 43,
     "metadata": {},
     "output_type": "execute_result"
    }
   ],
   "source": [
    "# Load data and print out a few lines. Perform operations to inspect data\n",
    "#   types and look for instances of missing or possibly errant data.\n",
    "df_medical = pd.read_csv('KaggleV2-May-2016.csv')\n",
    "df_medical.head()"
   ]
  },
  {
   "cell_type": "code",
   "execution_count": 44,
   "metadata": {},
   "outputs": [
    {
     "name": "stdout",
     "output_type": "stream",
     "text": [
      "<class 'pandas.core.frame.DataFrame'>\n",
      "RangeIndex: 110527 entries, 0 to 110526\n",
      "Data columns (total 14 columns):\n",
      " #   Column          Non-Null Count   Dtype  \n",
      "---  ------          --------------   -----  \n",
      " 0   PatientId       110527 non-null  float64\n",
      " 1   AppointmentID   110527 non-null  int64  \n",
      " 2   Gender          110527 non-null  object \n",
      " 3   ScheduledDay    110527 non-null  object \n",
      " 4   AppointmentDay  110527 non-null  object \n",
      " 5   Age             110527 non-null  int64  \n",
      " 6   Neighbourhood   110527 non-null  object \n",
      " 7   Scholarship     110527 non-null  int64  \n",
      " 8   Hipertension    110527 non-null  int64  \n",
      " 9   Diabetes        110527 non-null  int64  \n",
      " 10  Alcoholism      110527 non-null  int64  \n",
      " 11  Handcap         110527 non-null  int64  \n",
      " 12  SMS_received    110527 non-null  int64  \n",
      " 13  No-show         110527 non-null  object \n",
      "dtypes: float64(1), int64(8), object(5)\n",
      "memory usage: 11.8+ MB\n"
     ]
    }
   ],
   "source": [
    "df_medical.info()"
   ]
  },
  {
   "cell_type": "code",
   "execution_count": 45,
   "metadata": {
    "scrolled": true
   },
   "outputs": [
    {
     "data": {
      "text/html": [
       "<div>\n",
       "<style scoped>\n",
       "    .dataframe tbody tr th:only-of-type {\n",
       "        vertical-align: middle;\n",
       "    }\n",
       "\n",
       "    .dataframe tbody tr th {\n",
       "        vertical-align: top;\n",
       "    }\n",
       "\n",
       "    .dataframe thead th {\n",
       "        text-align: right;\n",
       "    }\n",
       "</style>\n",
       "<table border=\"1\" class=\"dataframe\">\n",
       "  <thead>\n",
       "    <tr style=\"text-align: right;\">\n",
       "      <th></th>\n",
       "      <th>PatientId</th>\n",
       "      <th>AppointmentID</th>\n",
       "      <th>Age</th>\n",
       "      <th>Scholarship</th>\n",
       "      <th>Hipertension</th>\n",
       "      <th>Diabetes</th>\n",
       "      <th>Alcoholism</th>\n",
       "      <th>Handcap</th>\n",
       "      <th>SMS_received</th>\n",
       "    </tr>\n",
       "  </thead>\n",
       "  <tbody>\n",
       "    <tr>\n",
       "      <th>count</th>\n",
       "      <td>1.105270e+05</td>\n",
       "      <td>1.105270e+05</td>\n",
       "      <td>110527.000000</td>\n",
       "      <td>110527.000000</td>\n",
       "      <td>110527.000000</td>\n",
       "      <td>110527.000000</td>\n",
       "      <td>110527.000000</td>\n",
       "      <td>110527.000000</td>\n",
       "      <td>110527.000000</td>\n",
       "    </tr>\n",
       "    <tr>\n",
       "      <th>mean</th>\n",
       "      <td>1.474963e+14</td>\n",
       "      <td>5.675305e+06</td>\n",
       "      <td>37.088874</td>\n",
       "      <td>0.098266</td>\n",
       "      <td>0.197246</td>\n",
       "      <td>0.071865</td>\n",
       "      <td>0.030400</td>\n",
       "      <td>0.022248</td>\n",
       "      <td>0.321026</td>\n",
       "    </tr>\n",
       "    <tr>\n",
       "      <th>std</th>\n",
       "      <td>2.560949e+14</td>\n",
       "      <td>7.129575e+04</td>\n",
       "      <td>23.110205</td>\n",
       "      <td>0.297675</td>\n",
       "      <td>0.397921</td>\n",
       "      <td>0.258265</td>\n",
       "      <td>0.171686</td>\n",
       "      <td>0.161543</td>\n",
       "      <td>0.466873</td>\n",
       "    </tr>\n",
       "    <tr>\n",
       "      <th>min</th>\n",
       "      <td>3.921784e+04</td>\n",
       "      <td>5.030230e+06</td>\n",
       "      <td>-1.000000</td>\n",
       "      <td>0.000000</td>\n",
       "      <td>0.000000</td>\n",
       "      <td>0.000000</td>\n",
       "      <td>0.000000</td>\n",
       "      <td>0.000000</td>\n",
       "      <td>0.000000</td>\n",
       "    </tr>\n",
       "    <tr>\n",
       "      <th>25%</th>\n",
       "      <td>4.172614e+12</td>\n",
       "      <td>5.640286e+06</td>\n",
       "      <td>18.000000</td>\n",
       "      <td>0.000000</td>\n",
       "      <td>0.000000</td>\n",
       "      <td>0.000000</td>\n",
       "      <td>0.000000</td>\n",
       "      <td>0.000000</td>\n",
       "      <td>0.000000</td>\n",
       "    </tr>\n",
       "    <tr>\n",
       "      <th>50%</th>\n",
       "      <td>3.173184e+13</td>\n",
       "      <td>5.680573e+06</td>\n",
       "      <td>37.000000</td>\n",
       "      <td>0.000000</td>\n",
       "      <td>0.000000</td>\n",
       "      <td>0.000000</td>\n",
       "      <td>0.000000</td>\n",
       "      <td>0.000000</td>\n",
       "      <td>0.000000</td>\n",
       "    </tr>\n",
       "    <tr>\n",
       "      <th>75%</th>\n",
       "      <td>9.439172e+13</td>\n",
       "      <td>5.725524e+06</td>\n",
       "      <td>55.000000</td>\n",
       "      <td>0.000000</td>\n",
       "      <td>0.000000</td>\n",
       "      <td>0.000000</td>\n",
       "      <td>0.000000</td>\n",
       "      <td>0.000000</td>\n",
       "      <td>1.000000</td>\n",
       "    </tr>\n",
       "    <tr>\n",
       "      <th>max</th>\n",
       "      <td>9.999816e+14</td>\n",
       "      <td>5.790484e+06</td>\n",
       "      <td>115.000000</td>\n",
       "      <td>1.000000</td>\n",
       "      <td>1.000000</td>\n",
       "      <td>1.000000</td>\n",
       "      <td>1.000000</td>\n",
       "      <td>4.000000</td>\n",
       "      <td>1.000000</td>\n",
       "    </tr>\n",
       "  </tbody>\n",
       "</table>\n",
       "</div>"
      ],
      "text/plain": [
       "          PatientId  AppointmentID            Age    Scholarship  \\\n",
       "count  1.105270e+05   1.105270e+05  110527.000000  110527.000000   \n",
       "mean   1.474963e+14   5.675305e+06      37.088874       0.098266   \n",
       "std    2.560949e+14   7.129575e+04      23.110205       0.297675   \n",
       "min    3.921784e+04   5.030230e+06      -1.000000       0.000000   \n",
       "25%    4.172614e+12   5.640286e+06      18.000000       0.000000   \n",
       "50%    3.173184e+13   5.680573e+06      37.000000       0.000000   \n",
       "75%    9.439172e+13   5.725524e+06      55.000000       0.000000   \n",
       "max    9.999816e+14   5.790484e+06     115.000000       1.000000   \n",
       "\n",
       "        Hipertension       Diabetes     Alcoholism        Handcap  \\\n",
       "count  110527.000000  110527.000000  110527.000000  110527.000000   \n",
       "mean        0.197246       0.071865       0.030400       0.022248   \n",
       "std         0.397921       0.258265       0.171686       0.161543   \n",
       "min         0.000000       0.000000       0.000000       0.000000   \n",
       "25%         0.000000       0.000000       0.000000       0.000000   \n",
       "50%         0.000000       0.000000       0.000000       0.000000   \n",
       "75%         0.000000       0.000000       0.000000       0.000000   \n",
       "max         1.000000       1.000000       1.000000       4.000000   \n",
       "\n",
       "        SMS_received  \n",
       "count  110527.000000  \n",
       "mean        0.321026  \n",
       "std         0.466873  \n",
       "min         0.000000  \n",
       "25%         0.000000  \n",
       "50%         0.000000  \n",
       "75%         1.000000  \n",
       "max         1.000000  "
      ]
     },
     "execution_count": 45,
     "metadata": {},
     "output_type": "execute_result"
    }
   ],
   "source": [
    "df_medical.describe()"
   ]
  },
  {
   "cell_type": "markdown",
   "metadata": {},
   "source": [
    "- From the above data, we found an item with age (-1) that is impossible so we must drop this item from data, also applying a boxplot chart to find any abnormal in the age column."
   ]
  },
  {
   "cell_type": "code",
   "execution_count": 46,
   "metadata": {},
   "outputs": [
    {
     "data": {
      "text/plain": [
       "(110527, 14)"
      ]
     },
     "execution_count": 46,
     "metadata": {},
     "output_type": "execute_result"
    }
   ],
   "source": [
    "df_medical.shape"
   ]
  },
  {
   "cell_type": "markdown",
   "metadata": {},
   "source": [
    "# 2.3. What Finding we have\n",
    "1. Column names need to convert to lower case (it is not big issue but let us do it).\n",
    "2. The dataset does not contain any missing values (NaNs).\n",
    "3. The 'PatientId' data type is float but should be int.\n",
    "4. We found an item with age (-1) that is impossible.\n",
    "5. The 'ScheduledDay' and 'AppointmentDay' columns type should be changed to DateTime.\n",
    "6. There is a column for each type of disease individually without a column of how the case was critical according to the combination of diseases they had.\n",
    "7. The 'AppointmentDay' has no hour specified (it equals 00:00:00). We will not be able to analyze if the appointment hour has anything to do with no-shows.\n",
    "8. There is no column indicates how much time passed between a visit scheduling time and the actual visit time. There is no such data column but this can be calculated from the 'ScheduledDay' and 'AppointmentDay' columns with the name waiting_time.\n",
    "9. Another interesting question would be how the show and no-show appointments are distributed among days of the week. To explore this I will calculate a column called day_of_week.\n",
    "10. May we need to estimate the case severity according to Patient Kind (Male or Female).\n",
    "\n",
    "\n",
    "   [back to top](#Table-of-Contents)"
   ]
  },
  {
   "cell_type": "markdown",
   "metadata": {},
   "source": [
    "## 3. Data Cleaning\n",
    "\n",
    "> In this section of the report, we will clean all findings which we get from the previous section.\n",
    "\n",
    "   [back to top](#Table-of-Contents)\n"
   ]
  },
  {
   "cell_type": "code",
   "execution_count": 47,
   "metadata": {},
   "outputs": [
    {
     "data": {
      "text/plain": [
       "Index(['patient_id', 'appointment_id', 'gender', 'scheduled_day',\n",
       "       'appointment_day', 'age', 'neighborhood', 'scholarship', 'hypertension',\n",
       "       'diabetes', 'alcoholism', 'handicap', 'sms_received', 'no_show'],\n",
       "      dtype='object')"
      ]
     },
     "execution_count": 47,
     "metadata": {},
     "output_type": "execute_result"
    }
   ],
   "source": [
    "# The column names converted to lower case:\n",
    "df_medical.columns = ['patient_id', 'appointment_id', 'gender', 'scheduled_day', \n",
    "              'appointment_day', 'age', 'neighborhood', 'scholarship', 'hypertension',\n",
    "              'diabetes', 'alcoholism', 'handicap', 'sms_received', 'no_show']\n",
    "df_medical.columns"
   ]
  },
  {
   "cell_type": "code",
   "execution_count": 48,
   "metadata": {
    "scrolled": false
   },
   "outputs": [
    {
     "name": "stdout",
     "output_type": "stream",
     "text": [
      "<class 'pandas.core.frame.DataFrame'>\n",
      "RangeIndex: 110527 entries, 0 to 110526\n",
      "Data columns (total 16 columns):\n",
      " #   Column           Non-Null Count   Dtype         \n",
      "---  ------           --------------   -----         \n",
      " 0   patient_id       110527 non-null  int64         \n",
      " 1   appointment_id   110527 non-null  int64         \n",
      " 2   gender           110527 non-null  object        \n",
      " 3   scheduled_day    110527 non-null  datetime64[ns]\n",
      " 4   appointment_day  110527 non-null  datetime64[ns]\n",
      " 5   age              110527 non-null  int64         \n",
      " 6   neighborhood     110527 non-null  object        \n",
      " 7   scholarship      110527 non-null  int64         \n",
      " 8   hypertension     110527 non-null  int64         \n",
      " 9   diabetes         110527 non-null  int64         \n",
      " 10  alcoholism       110527 non-null  int64         \n",
      " 11  handicap         110527 non-null  int64         \n",
      " 12  sms_received     110527 non-null  int64         \n",
      " 13  no_show          110527 non-null  object        \n",
      " 14  case_severity    110527 non-null  int64         \n",
      " 15  waiting_time     110527 non-null  int64         \n",
      "dtypes: datetime64[ns](2), int64(11), object(3)\n",
      "memory usage: 13.5+ MB\n"
     ]
    }
   ],
   "source": [
    "# convert patient_id column to int:\n",
    "df_medical.patient_id = df_medical.patient_id.astype('int64')\n",
    "\n",
    "# create new column for case severity by sum of desiese columns:\n",
    "df_medical['case_severity'] = df_medical.hypertension + df_medical.diabetes + df_medical.alcoholism + df_medical.handicap\n",
    "\n",
    "# convert scheduled_day and appointment_day columns to datetime:\n",
    "df_medical['scheduled_day'] = pd.to_datetime(df_medical['scheduled_day'].astype('datetime64[ns]'))\n",
    "df_medical['appointment_day'] = pd.to_datetime(df_medical['appointment_day'].astype('datetime64[ns]'))\n",
    "# Create waiting_time column\n",
    "df_medical['waiting_time'] = (df_medical.appointment_day - df_medical.scheduled_day).dt.days\n",
    "df_medical.info()"
   ]
  },
  {
   "cell_type": "code",
   "execution_count": 49,
   "metadata": {
    "scrolled": true
   },
   "outputs": [
    {
     "data": {
      "text/html": [
       "<div>\n",
       "<style scoped>\n",
       "    .dataframe tbody tr th:only-of-type {\n",
       "        vertical-align: middle;\n",
       "    }\n",
       "\n",
       "    .dataframe tbody tr th {\n",
       "        vertical-align: top;\n",
       "    }\n",
       "\n",
       "    .dataframe thead th {\n",
       "        text-align: right;\n",
       "    }\n",
       "</style>\n",
       "<table border=\"1\" class=\"dataframe\">\n",
       "  <thead>\n",
       "    <tr style=\"text-align: right;\">\n",
       "      <th></th>\n",
       "      <th>patient_id</th>\n",
       "      <th>appointment_id</th>\n",
       "      <th>gender</th>\n",
       "      <th>scheduled_day</th>\n",
       "      <th>appointment_day</th>\n",
       "      <th>age</th>\n",
       "      <th>neighborhood</th>\n",
       "      <th>scholarship</th>\n",
       "      <th>hypertension</th>\n",
       "      <th>diabetes</th>\n",
       "      <th>alcoholism</th>\n",
       "      <th>handicap</th>\n",
       "      <th>sms_received</th>\n",
       "      <th>no_show</th>\n",
       "      <th>case_severity</th>\n",
       "      <th>waiting_time</th>\n",
       "    </tr>\n",
       "  </thead>\n",
       "  <tbody>\n",
       "    <tr>\n",
       "      <th>0</th>\n",
       "      <td>29872499824296</td>\n",
       "      <td>5642903</td>\n",
       "      <td>F</td>\n",
       "      <td>2016-04-29 18:38:08</td>\n",
       "      <td>2016-04-29</td>\n",
       "      <td>62</td>\n",
       "      <td>JARDIM DA PENHA</td>\n",
       "      <td>0</td>\n",
       "      <td>1</td>\n",
       "      <td>0</td>\n",
       "      <td>0</td>\n",
       "      <td>0</td>\n",
       "      <td>0</td>\n",
       "      <td>No</td>\n",
       "      <td>1</td>\n",
       "      <td>-1</td>\n",
       "    </tr>\n",
       "    <tr>\n",
       "      <th>1</th>\n",
       "      <td>558997776694438</td>\n",
       "      <td>5642503</td>\n",
       "      <td>M</td>\n",
       "      <td>2016-04-29 16:08:27</td>\n",
       "      <td>2016-04-29</td>\n",
       "      <td>56</td>\n",
       "      <td>JARDIM DA PENHA</td>\n",
       "      <td>0</td>\n",
       "      <td>0</td>\n",
       "      <td>0</td>\n",
       "      <td>0</td>\n",
       "      <td>0</td>\n",
       "      <td>0</td>\n",
       "      <td>No</td>\n",
       "      <td>0</td>\n",
       "      <td>-1</td>\n",
       "    </tr>\n",
       "    <tr>\n",
       "      <th>2</th>\n",
       "      <td>4262962299951</td>\n",
       "      <td>5642549</td>\n",
       "      <td>F</td>\n",
       "      <td>2016-04-29 16:19:04</td>\n",
       "      <td>2016-04-29</td>\n",
       "      <td>62</td>\n",
       "      <td>MATA DA PRAIA</td>\n",
       "      <td>0</td>\n",
       "      <td>0</td>\n",
       "      <td>0</td>\n",
       "      <td>0</td>\n",
       "      <td>0</td>\n",
       "      <td>0</td>\n",
       "      <td>No</td>\n",
       "      <td>0</td>\n",
       "      <td>-1</td>\n",
       "    </tr>\n",
       "    <tr>\n",
       "      <th>3</th>\n",
       "      <td>867951213174</td>\n",
       "      <td>5642828</td>\n",
       "      <td>F</td>\n",
       "      <td>2016-04-29 17:29:31</td>\n",
       "      <td>2016-04-29</td>\n",
       "      <td>8</td>\n",
       "      <td>PONTAL DE CAMBURI</td>\n",
       "      <td>0</td>\n",
       "      <td>0</td>\n",
       "      <td>0</td>\n",
       "      <td>0</td>\n",
       "      <td>0</td>\n",
       "      <td>0</td>\n",
       "      <td>No</td>\n",
       "      <td>0</td>\n",
       "      <td>-1</td>\n",
       "    </tr>\n",
       "    <tr>\n",
       "      <th>4</th>\n",
       "      <td>8841186448183</td>\n",
       "      <td>5642494</td>\n",
       "      <td>F</td>\n",
       "      <td>2016-04-29 16:07:23</td>\n",
       "      <td>2016-04-29</td>\n",
       "      <td>56</td>\n",
       "      <td>JARDIM DA PENHA</td>\n",
       "      <td>0</td>\n",
       "      <td>1</td>\n",
       "      <td>1</td>\n",
       "      <td>0</td>\n",
       "      <td>0</td>\n",
       "      <td>0</td>\n",
       "      <td>No</td>\n",
       "      <td>2</td>\n",
       "      <td>-1</td>\n",
       "    </tr>\n",
       "  </tbody>\n",
       "</table>\n",
       "</div>"
      ],
      "text/plain": [
       "        patient_id  appointment_id gender       scheduled_day appointment_day  \\\n",
       "0   29872499824296         5642903      F 2016-04-29 18:38:08      2016-04-29   \n",
       "1  558997776694438         5642503      M 2016-04-29 16:08:27      2016-04-29   \n",
       "2    4262962299951         5642549      F 2016-04-29 16:19:04      2016-04-29   \n",
       "3     867951213174         5642828      F 2016-04-29 17:29:31      2016-04-29   \n",
       "4    8841186448183         5642494      F 2016-04-29 16:07:23      2016-04-29   \n",
       "\n",
       "   age       neighborhood  scholarship  hypertension  diabetes  alcoholism  \\\n",
       "0   62    JARDIM DA PENHA            0             1         0           0   \n",
       "1   56    JARDIM DA PENHA            0             0         0           0   \n",
       "2   62      MATA DA PRAIA            0             0         0           0   \n",
       "3    8  PONTAL DE CAMBURI            0             0         0           0   \n",
       "4   56    JARDIM DA PENHA            0             1         1           0   \n",
       "\n",
       "   handicap  sms_received no_show  case_severity  waiting_time  \n",
       "0         0             0      No              1            -1  \n",
       "1         0             0      No              0            -1  \n",
       "2         0             0      No              0            -1  \n",
       "3         0             0      No              0            -1  \n",
       "4         0             0      No              2            -1  "
      ]
     },
     "execution_count": 49,
     "metadata": {},
     "output_type": "execute_result"
    }
   ],
   "source": [
    "df_medical.head()"
   ]
  },
  {
   "cell_type": "code",
   "execution_count": 50,
   "metadata": {},
   "outputs": [
    {
     "data": {
      "text/plain": [
       "(count      110527\n",
       " unique          6\n",
       " top       Tuesday\n",
       " freq        26168\n",
       " Name: day_of_week, dtype: object,\n",
       " Tuesday      26168\n",
       " Wednesday    24262\n",
       " Monday       23085\n",
       " Friday       18915\n",
       " Thursday     18073\n",
       " Saturday        24\n",
       " Name: day_of_week, dtype: int64)"
      ]
     },
     "execution_count": 50,
     "metadata": {},
     "output_type": "execute_result"
    }
   ],
   "source": [
    "# Create day of week column:\n",
    "df_medical['day_of_week'] = df_medical.scheduled_day.dt.day_name()\n",
    "df_medical['day_of_week'].describe() , df_medical['day_of_week'].value_counts()"
   ]
  },
  {
   "cell_type": "markdown",
   "metadata": {},
   "source": [
    "> **Note:**  From the last step, we found that most days were Tuesday with 26168 cases, and less one was Saturday with 24 cases only, also, Sunday was no case observed.\n",
    "> "
   ]
  },
  {
   "cell_type": "code",
   "execution_count": 51,
   "metadata": {
    "scrolled": true
   },
   "outputs": [
    {
     "data": {
      "image/png": "[encoded data removed]",
      "text/plain": [
       "<Figure size 432x288 with 1 Axes>"
      ]
     },
     "metadata": {
      "needs_background": "light"
     },
     "output_type": "display_data"
    }
   ],
   "source": [
    "# Try Boxplot chart to find any more outliers in age column:\n",
    "df_medical['age'].plot(kind='box');"
   ]
  },
  {
   "cell_type": "markdown",
   "metadata": {},
   "source": [
    "- Now we found another point marked as an outlier with a value of 115 years old, so we must drop both points from data (-1 & 115 Year)."
   ]
  },
  {
   "cell_type": "code",
   "execution_count": 52,
   "metadata": {
    "scrolled": true
   },
   "outputs": [
    {
     "data": {
      "text/html": [
       "<div>\n",
       "<style scoped>\n",
       "    .dataframe tbody tr th:only-of-type {\n",
       "        vertical-align: middle;\n",
       "    }\n",
       "\n",
       "    .dataframe tbody tr th {\n",
       "        vertical-align: top;\n",
       "    }\n",
       "\n",
       "    .dataframe thead th {\n",
       "        text-align: right;\n",
       "    }\n",
       "</style>\n",
       "<table border=\"1\" class=\"dataframe\">\n",
       "  <thead>\n",
       "    <tr style=\"text-align: right;\">\n",
       "      <th></th>\n",
       "      <th>patient_id</th>\n",
       "      <th>appointment_id</th>\n",
       "      <th>age</th>\n",
       "      <th>scholarship</th>\n",
       "      <th>hypertension</th>\n",
       "      <th>diabetes</th>\n",
       "      <th>alcoholism</th>\n",
       "      <th>handicap</th>\n",
       "      <th>sms_received</th>\n",
       "      <th>case_severity</th>\n",
       "      <th>waiting_time</th>\n",
       "    </tr>\n",
       "  </thead>\n",
       "  <tbody>\n",
       "    <tr>\n",
       "      <th>count</th>\n",
       "      <td>1.105210e+05</td>\n",
       "      <td>1.105210e+05</td>\n",
       "      <td>110521.000000</td>\n",
       "      <td>110521.000000</td>\n",
       "      <td>110521.000000</td>\n",
       "      <td>110521.000000</td>\n",
       "      <td>110521.000000</td>\n",
       "      <td>110521.000000</td>\n",
       "      <td>110521.000000</td>\n",
       "      <td>110521.000000</td>\n",
       "      <td>110521.000000</td>\n",
       "    </tr>\n",
       "    <tr>\n",
       "      <th>mean</th>\n",
       "      <td>1.474921e+14</td>\n",
       "      <td>5.675304e+06</td>\n",
       "      <td>37.085694</td>\n",
       "      <td>0.098271</td>\n",
       "      <td>0.197248</td>\n",
       "      <td>0.071869</td>\n",
       "      <td>0.030401</td>\n",
       "      <td>0.022213</td>\n",
       "      <td>0.321034</td>\n",
       "      <td>0.321731</td>\n",
       "      <td>9.183721</td>\n",
       "    </tr>\n",
       "    <tr>\n",
       "      <th>std</th>\n",
       "      <td>2.560928e+14</td>\n",
       "      <td>7.129576e+04</td>\n",
       "      <td>23.104606</td>\n",
       "      <td>0.297682</td>\n",
       "      <td>0.397923</td>\n",
       "      <td>0.258272</td>\n",
       "      <td>0.171690</td>\n",
       "      <td>0.161440</td>\n",
       "      <td>0.466876</td>\n",
       "      <td>0.631381</td>\n",
       "      <td>15.255082</td>\n",
       "    </tr>\n",
       "    <tr>\n",
       "      <th>min</th>\n",
       "      <td>3.921700e+04</td>\n",
       "      <td>5.030230e+06</td>\n",
       "      <td>0.000000</td>\n",
       "      <td>0.000000</td>\n",
       "      <td>0.000000</td>\n",
       "      <td>0.000000</td>\n",
       "      <td>0.000000</td>\n",
       "      <td>0.000000</td>\n",
       "      <td>0.000000</td>\n",
       "      <td>0.000000</td>\n",
       "      <td>-7.000000</td>\n",
       "    </tr>\n",
       "    <tr>\n",
       "      <th>25%</th>\n",
       "      <td>4.172457e+12</td>\n",
       "      <td>5.640285e+06</td>\n",
       "      <td>18.000000</td>\n",
       "      <td>0.000000</td>\n",
       "      <td>0.000000</td>\n",
       "      <td>0.000000</td>\n",
       "      <td>0.000000</td>\n",
       "      <td>0.000000</td>\n",
       "      <td>0.000000</td>\n",
       "      <td>0.000000</td>\n",
       "      <td>-1.000000</td>\n",
       "    </tr>\n",
       "    <tr>\n",
       "      <th>50%</th>\n",
       "      <td>3.172598e+13</td>\n",
       "      <td>5.680569e+06</td>\n",
       "      <td>37.000000</td>\n",
       "      <td>0.000000</td>\n",
       "      <td>0.000000</td>\n",
       "      <td>0.000000</td>\n",
       "      <td>0.000000</td>\n",
       "      <td>0.000000</td>\n",
       "      <td>0.000000</td>\n",
       "      <td>0.000000</td>\n",
       "      <td>3.000000</td>\n",
       "    </tr>\n",
       "    <tr>\n",
       "      <th>75%</th>\n",
       "      <td>9.438963e+13</td>\n",
       "      <td>5.725523e+06</td>\n",
       "      <td>55.000000</td>\n",
       "      <td>0.000000</td>\n",
       "      <td>0.000000</td>\n",
       "      <td>0.000000</td>\n",
       "      <td>0.000000</td>\n",
       "      <td>0.000000</td>\n",
       "      <td>1.000000</td>\n",
       "      <td>0.000000</td>\n",
       "      <td>14.000000</td>\n",
       "    </tr>\n",
       "    <tr>\n",
       "      <th>max</th>\n",
       "      <td>9.999816e+14</td>\n",
       "      <td>5.790484e+06</td>\n",
       "      <td>102.000000</td>\n",
       "      <td>1.000000</td>\n",
       "      <td>1.000000</td>\n",
       "      <td>1.000000</td>\n",
       "      <td>1.000000</td>\n",
       "      <td>4.000000</td>\n",
       "      <td>1.000000</td>\n",
       "      <td>5.000000</td>\n",
       "      <td>178.000000</td>\n",
       "    </tr>\n",
       "  </tbody>\n",
       "</table>\n",
       "</div>"
      ],
      "text/plain": [
       "         patient_id  appointment_id            age    scholarship  \\\n",
       "count  1.105210e+05    1.105210e+05  110521.000000  110521.000000   \n",
       "mean   1.474921e+14    5.675304e+06      37.085694       0.098271   \n",
       "std    2.560928e+14    7.129576e+04      23.104606       0.297682   \n",
       "min    3.921700e+04    5.030230e+06       0.000000       0.000000   \n",
       "25%    4.172457e+12    5.640285e+06      18.000000       0.000000   \n",
       "50%    3.172598e+13    5.680569e+06      37.000000       0.000000   \n",
       "75%    9.438963e+13    5.725523e+06      55.000000       0.000000   \n",
       "max    9.999816e+14    5.790484e+06     102.000000       1.000000   \n",
       "\n",
       "        hypertension       diabetes     alcoholism       handicap  \\\n",
       "count  110521.000000  110521.000000  110521.000000  110521.000000   \n",
       "mean        0.197248       0.071869       0.030401       0.022213   \n",
       "std         0.397923       0.258272       0.171690       0.161440   \n",
       "min         0.000000       0.000000       0.000000       0.000000   \n",
       "25%         0.000000       0.000000       0.000000       0.000000   \n",
       "50%         0.000000       0.000000       0.000000       0.000000   \n",
       "75%         0.000000       0.000000       0.000000       0.000000   \n",
       "max         1.000000       1.000000       1.000000       4.000000   \n",
       "\n",
       "        sms_received  case_severity   waiting_time  \n",
       "count  110521.000000  110521.000000  110521.000000  \n",
       "mean        0.321034       0.321731       9.183721  \n",
       "std         0.466876       0.631381      15.255082  \n",
       "min         0.000000       0.000000      -7.000000  \n",
       "25%         0.000000       0.000000      -1.000000  \n",
       "50%         0.000000       0.000000       3.000000  \n",
       "75%         1.000000       0.000000      14.000000  \n",
       "max         1.000000       5.000000     178.000000  "
      ]
     },
     "execution_count": 52,
     "metadata": {},
     "output_type": "execute_result"
    }
   ],
   "source": [
    "df_medical = df_medical[(df_medical.age >= 0) & (df_medical.age <= 110)]\n",
    "df_medical.describe()"
   ]
  },
  {
   "cell_type": "markdown",
   "metadata": {},
   "source": [
    "- Still, we have a problem, there is no logic age value with zero so it must drop from data, so we will repeat the last code again."
   ]
  },
  {
   "cell_type": "code",
   "execution_count": 53,
   "metadata": {
    "scrolled": true
   },
   "outputs": [
    {
     "data": {
      "text/html": [
       "<div>\n",
       "<style scoped>\n",
       "    .dataframe tbody tr th:only-of-type {\n",
       "        vertical-align: middle;\n",
       "    }\n",
       "\n",
       "    .dataframe tbody tr th {\n",
       "        vertical-align: top;\n",
       "    }\n",
       "\n",
       "    .dataframe thead th {\n",
       "        text-align: right;\n",
       "    }\n",
       "</style>\n",
       "<table border=\"1\" class=\"dataframe\">\n",
       "  <thead>\n",
       "    <tr style=\"text-align: right;\">\n",
       "      <th></th>\n",
       "      <th>patient_id</th>\n",
       "      <th>appointment_id</th>\n",
       "      <th>age</th>\n",
       "      <th>scholarship</th>\n",
       "      <th>hypertension</th>\n",
       "      <th>diabetes</th>\n",
       "      <th>alcoholism</th>\n",
       "      <th>handicap</th>\n",
       "      <th>sms_received</th>\n",
       "      <th>case_severity</th>\n",
       "      <th>waiting_time</th>\n",
       "    </tr>\n",
       "  </thead>\n",
       "  <tbody>\n",
       "    <tr>\n",
       "      <th>count</th>\n",
       "      <td>1.069820e+05</td>\n",
       "      <td>1.069820e+05</td>\n",
       "      <td>106982.000000</td>\n",
       "      <td>106982.000000</td>\n",
       "      <td>106982.000000</td>\n",
       "      <td>106982.000000</td>\n",
       "      <td>106982.000000</td>\n",
       "      <td>106982.000000</td>\n",
       "      <td>106982.000000</td>\n",
       "      <td>106982.000000</td>\n",
       "      <td>106982.000000</td>\n",
       "    </tr>\n",
       "    <tr>\n",
       "      <th>mean</th>\n",
       "      <td>1.472801e+14</td>\n",
       "      <td>5.675434e+06</td>\n",
       "      <td>38.312501</td>\n",
       "      <td>0.101036</td>\n",
       "      <td>0.203773</td>\n",
       "      <td>0.074246</td>\n",
       "      <td>0.031407</td>\n",
       "      <td>0.022938</td>\n",
       "      <td>0.323269</td>\n",
       "      <td>0.332364</td>\n",
       "      <td>9.166645</td>\n",
       "    </tr>\n",
       "    <tr>\n",
       "      <th>std</th>\n",
       "      <td>2.558251e+14</td>\n",
       "      <td>7.133307e+04</td>\n",
       "      <td>22.460622</td>\n",
       "      <td>0.301377</td>\n",
       "      <td>0.402804</td>\n",
       "      <td>0.262172</td>\n",
       "      <td>0.174416</td>\n",
       "      <td>0.164010</td>\n",
       "      <td>0.467727</td>\n",
       "      <td>0.638975</td>\n",
       "      <td>15.263557</td>\n",
       "    </tr>\n",
       "    <tr>\n",
       "      <th>min</th>\n",
       "      <td>3.921700e+04</td>\n",
       "      <td>5.030230e+06</td>\n",
       "      <td>1.000000</td>\n",
       "      <td>0.000000</td>\n",
       "      <td>0.000000</td>\n",
       "      <td>0.000000</td>\n",
       "      <td>0.000000</td>\n",
       "      <td>0.000000</td>\n",
       "      <td>0.000000</td>\n",
       "      <td>0.000000</td>\n",
       "      <td>-7.000000</td>\n",
       "    </tr>\n",
       "    <tr>\n",
       "      <th>25%</th>\n",
       "      <td>4.173028e+12</td>\n",
       "      <td>5.640489e+06</td>\n",
       "      <td>19.000000</td>\n",
       "      <td>0.000000</td>\n",
       "      <td>0.000000</td>\n",
       "      <td>0.000000</td>\n",
       "      <td>0.000000</td>\n",
       "      <td>0.000000</td>\n",
       "      <td>0.000000</td>\n",
       "      <td>0.000000</td>\n",
       "      <td>-1.000000</td>\n",
       "    </tr>\n",
       "    <tr>\n",
       "      <th>50%</th>\n",
       "      <td>3.171698e+13</td>\n",
       "      <td>5.680742e+06</td>\n",
       "      <td>38.000000</td>\n",
       "      <td>0.000000</td>\n",
       "      <td>0.000000</td>\n",
       "      <td>0.000000</td>\n",
       "      <td>0.000000</td>\n",
       "      <td>0.000000</td>\n",
       "      <td>0.000000</td>\n",
       "      <td>0.000000</td>\n",
       "      <td>3.000000</td>\n",
       "    </tr>\n",
       "    <tr>\n",
       "      <th>75%</th>\n",
       "      <td>9.433627e+13</td>\n",
       "      <td>5.725635e+06</td>\n",
       "      <td>56.000000</td>\n",
       "      <td>0.000000</td>\n",
       "      <td>0.000000</td>\n",
       "      <td>0.000000</td>\n",
       "      <td>0.000000</td>\n",
       "      <td>0.000000</td>\n",
       "      <td>1.000000</td>\n",
       "      <td>0.000000</td>\n",
       "      <td>13.000000</td>\n",
       "    </tr>\n",
       "    <tr>\n",
       "      <th>max</th>\n",
       "      <td>9.999816e+14</td>\n",
       "      <td>5.790484e+06</td>\n",
       "      <td>102.000000</td>\n",
       "      <td>1.000000</td>\n",
       "      <td>1.000000</td>\n",
       "      <td>1.000000</td>\n",
       "      <td>1.000000</td>\n",
       "      <td>4.000000</td>\n",
       "      <td>1.000000</td>\n",
       "      <td>5.000000</td>\n",
       "      <td>178.000000</td>\n",
       "    </tr>\n",
       "  </tbody>\n",
       "</table>\n",
       "</div>"
      ],
      "text/plain": [
       "         patient_id  appointment_id            age    scholarship  \\\n",
       "count  1.069820e+05    1.069820e+05  106982.000000  106982.000000   \n",
       "mean   1.472801e+14    5.675434e+06      38.312501       0.101036   \n",
       "std    2.558251e+14    7.133307e+04      22.460622       0.301377   \n",
       "min    3.921700e+04    5.030230e+06       1.000000       0.000000   \n",
       "25%    4.173028e+12    5.640489e+06      19.000000       0.000000   \n",
       "50%    3.171698e+13    5.680742e+06      38.000000       0.000000   \n",
       "75%    9.433627e+13    5.725635e+06      56.000000       0.000000   \n",
       "max    9.999816e+14    5.790484e+06     102.000000       1.000000   \n",
       "\n",
       "        hypertension       diabetes     alcoholism       handicap  \\\n",
       "count  106982.000000  106982.000000  106982.000000  106982.000000   \n",
       "mean        0.203773       0.074246       0.031407       0.022938   \n",
       "std         0.402804       0.262172       0.174416       0.164010   \n",
       "min         0.000000       0.000000       0.000000       0.000000   \n",
       "25%         0.000000       0.000000       0.000000       0.000000   \n",
       "50%         0.000000       0.000000       0.000000       0.000000   \n",
       "75%         0.000000       0.000000       0.000000       0.000000   \n",
       "max         1.000000       1.000000       1.000000       4.000000   \n",
       "\n",
       "        sms_received  case_severity   waiting_time  \n",
       "count  106982.000000  106982.000000  106982.000000  \n",
       "mean        0.323269       0.332364       9.166645  \n",
       "std         0.467727       0.638975      15.263557  \n",
       "min         0.000000       0.000000      -7.000000  \n",
       "25%         0.000000       0.000000      -1.000000  \n",
       "50%         0.000000       0.000000       3.000000  \n",
       "75%         1.000000       0.000000      13.000000  \n",
       "max         1.000000       5.000000     178.000000  "
      ]
     },
     "execution_count": 53,
     "metadata": {},
     "output_type": "execute_result"
    }
   ],
   "source": [
    "df_medical = df_medical[(df_medical.age > 0) & (df_medical.age <= 110)]\n",
    "df_medical.describe()"
   ]
  },
  {
   "cell_type": "markdown",
   "metadata": {},
   "source": [
    "- Finally, we get clean data for the age column."
   ]
  },
  {
   "cell_type": "markdown",
   "metadata": {},
   "source": [
    "## 4. Exploratory Data Analysis\n",
    "\n",
    "> Now we're ready to move on to exploration & compute statistics and create visualizations.\n",
    "\n",
    "\n",
    "   [back to top](#Table-of-Contents)"
   ]
  },
  {
   "cell_type": "markdown",
   "metadata": {},
   "source": [
    "- First, we'll draw a histogram & scatter diagram for all data (canceling for patient_id & appointment_id) to understand data more and find if there is any relationship that occurs."
   ]
  },
  {
   "cell_type": "code",
   "execution_count": 54,
   "metadata": {
    "scrolled": false
   },
   "outputs": [
    {
     "data": {
      "image/png": "[encoded data removed]",
      "text/plain": [
       "<Figure size 1080x1080 with 16 Axes>"
      ]
     },
     "metadata": {
      "needs_background": "light"
     },
     "output_type": "display_data"
    }
   ],
   "source": [
    "df_medical.hist(figsize=(15,15));"
   ]
  },
  {
   "cell_type": "markdown",
   "metadata": {},
   "source": [
    "### 4.1. Observation from Histogram\n",
    "> 1. **Scholarship:**   Most patients haven't a scholarship.        \n",
    "> 2. **Age:**          Most patients age less than 56 years old (75%) with a mean age of 38 years old. (the Histogram skewed right).\n",
    "> 3. **Alcoholism:**   Most patients are not alcoholics.\n",
    "> 4. **Diabetes:**     Most patients are not diabetic.\n",
    "> 5. **Hypertension:** Most patients did not have hypertension diagnoses.\n",
    "> 6. **Case Severity:** We had more than one level of case severity according to the combination of diseases, but most of the patients were on the safe side with a case severity of 0.\n",
    "\n",
    "\n",
    "   [back to top](#Table-of-Contents)"
   ]
  },
  {
   "cell_type": "code",
   "execution_count": 55,
   "metadata": {},
   "outputs": [
    {
     "data": {
      "image/png": "[encoded data removed]",
      "text/plain": [
       "<Figure size 1152x360 with 1 Axes>"
      ]
     },
     "metadata": {
      "needs_background": "light"
     },
     "output_type": "display_data"
    }
   ],
   "source": [
    "# showing case_severity according to gender column:\n",
    "plt.figure(figsize = [16,5])\n",
    "show_age = sns.countplot(x=df_medical.gender, hue=df_medical.scholarship, data=df_medical)\n",
    "show_age.set_title(\"Patients age vs Case Severity\")\n",
    "plt.show()"
   ]
  },
  {
   "cell_type": "markdown",
   "metadata": {},
   "source": [
    "Scholarship indicator between 0 and 1.\n",
    "- Zero (0) indicates that the patient had not a scholarship system.\n",
    "- One (1) indicates that the patient is involved in the scholarship system."
   ]
  },
  {
   "cell_type": "code",
   "execution_count": 56,
   "metadata": {
    "scrolled": false
   },
   "outputs": [
    {
     "data": {
      "image/png": "[encoded data removed]",
      "text/plain": [
       "<Figure size 432x288 with 1 Axes>"
      ]
     },
     "metadata": {
      "needs_background": "light"
     },
     "output_type": "display_data"
    }
   ],
   "source": [
    "# Estimate if there is a relation between case_severity & patient age:\n",
    "df_medical.plot(x= 'age', y='case_severity', kind='scatter');"
   ]
  },
  {
   "cell_type": "markdown",
   "metadata": {},
   "source": [
    "- That indicates most of the severe cases were in patients with old age."
   ]
  },
  {
   "cell_type": "code",
   "execution_count": 57,
   "metadata": {},
   "outputs": [
    {
     "name": "stdout",
     "output_type": "stream",
     "text": [
      "All Patient Number   : 106982\n",
      "Female Patient       : 70113 about 66 % \n",
      "Male Patient         : 36869 about 34 % \n"
     ]
    },
    {
     "data": {
      "image/png": "[encoded data removed]",
      "text/plain": [
       "<Figure size 576x360 with 1 Axes>"
      ]
     },
     "metadata": {
      "needs_background": "light"
     },
     "output_type": "display_data"
    }
   ],
   "source": [
    "# Calculation for number of female or male patient\n",
    "all_gender = df_medical.gender.shape[0]\n",
    "gender_f = len(df_medical.query('gender == \\'F\\''))\n",
    "gender_m = len(df_medical.query('gender == \\'M\\''))\n",
    "female_ratio = int(round(gender_f / all_gender*100))\n",
    "male_ratio = int(round(gender_m / all_gender*100))\n",
    "\n",
    "print('All Patient Number   : {}'.format(all_gender))\n",
    "print('Female Patient       : {} about {} % '.format(gender_f,female_ratio))\n",
    "print('Male Patient         : {} about {} % '.format(gender_m,male_ratio))\n",
    "\n",
    "df_medical['gender'].value_counts().plot(kind='bar', figsize=(8,5));\n",
    "plt.title(\"Number of Unique Gender\")\n",
    "plt.xlabel(\"Gender\")\n",
    "plt.ylabel(\"Count Value\");"
   ]
  },
  {
   "cell_type": "markdown",
   "metadata": {},
   "source": [
    "- Now we found that most of the patients were Female 70113 (66%) against Male 36869 (34%) near to be double the mean."
   ]
  },
  {
   "cell_type": "code",
   "execution_count": 58,
   "metadata": {
    "scrolled": true
   },
   "outputs": [
    {
     "name": "stdout",
     "output_type": "stream",
     "text": [
      "JARDIM CAMBURI     7586\n",
      "MARIA ORTIZ        5563\n",
      "RESISTÊNCIA        4235\n",
      "JARDIM DA PENHA    3851\n",
      "ITARARÉ            3412\n",
      "Name: neighborhood, dtype: int64\n"
     ]
    },
    {
     "data": {
      "image/png": "[encoded data removed]",
      "text/plain": [
       "<Figure size 1224x360 with 1 Axes>"
      ]
     },
     "metadata": {
      "needs_background": "light"
     },
     "output_type": "display_data"
    }
   ],
   "source": [
    "# Estimate top 5 neighbourhood according to patient count.\n",
    "df_medical['neighborhood'].value_counts().plot(kind='bar', figsize=(17,5));\n",
    "print(df_medical['neighborhood'].value_counts().iloc[0:5])"
   ]
  },
  {
   "cell_type": "markdown",
   "metadata": {},
   "source": [
    "From the bar chart, we found that major patient count comes from **JARDIM CAMBURI (7586 Patient)** then from **MARIA ORTIZ (5563 Patient)** neighborhoods, which may indicate bad health habits in them."
   ]
  },
  {
   "cell_type": "markdown",
   "metadata": {},
   "source": [
    "### 4.2. Questions\n",
    "\n",
    "- Now we try to ask some questions to find any relation between our dataset."
   ]
  },
  {
   "cell_type": "markdown",
   "metadata": {},
   "source": [
    "### 4.2.2. _Which variable affects the response of patients to attend their appointments?_"
   ]
  },
  {
   "cell_type": "code",
   "execution_count": 59,
   "metadata": {},
   "outputs": [
    {
     "data": {
      "text/plain": [
       "0    80576\n",
       "1    18008\n",
       "2     7710\n",
       "3      624\n",
       "4       63\n",
       "5        1\n",
       "Name: case_severity, dtype: int64"
      ]
     },
     "execution_count": 59,
     "metadata": {},
     "output_type": "execute_result"
    }
   ],
   "source": [
    "# Number of unique value for case_severity and its counts:\n",
    "df_medical['case_severity'].value_counts()"
   ]
  },
  {
   "cell_type": "code",
   "execution_count": 60,
   "metadata": {},
   "outputs": [
    {
     "data": {
      "image/png": "[encoded data removed]",
      "text/plain": [
       "<Figure size 720x360 with 1 Axes>"
      ]
     },
     "metadata": {
      "needs_background": "light"
     },
     "output_type": "display_data"
    }
   ],
   "source": [
    "df_medical['case_severity'].value_counts().plot(kind='bar', figsize=(10,5));\n",
    "plt.title(\"Number of Unique case_severity\")\n",
    "plt.xlabel(\"Severity Level\")\n",
    "plt.ylabel(\"Patient Count\");"
   ]
  },
  {
   "cell_type": "markdown",
   "metadata": {},
   "source": [
    "### 4.2.2.1. Observation for case_severity\n",
    "> we have six levels of severity depending on the sum value of each disease:\n",
    "    \n",
    "> - **Level 0:** This indicates No Severity (patient hadn't any health problems).\n",
    "> - **Level 1:** This indicates that the patient had one of diabetes, alcoholism, hypertension, or handicap.\n",
    "> - **Level 2:** This indicates that the patient had one or more of diabetes, alcoholism, hypertension, or handicap.\n",
    "> - **Level 3:** This indicates that the patient had two or more of diabetes, alcoholism, hypertension, or handicap.\n",
    "> - **Level 4:** This indicates that the patient had two or more from diabetes, alcoholism, hypertension, or handicap.\n",
    "> - **Level 5:** may indicate that the patient had more than two of diabetes, alcoholism, hypertension, or handicap.\n",
    "\n",
    "                                             \n",
    "      Note: now we can calculate how case severity affects No Show data.\n",
    "      \n",
    "      \n",
    "   [back to top](#Table-of-Contents)"
   ]
  },
  {
   "cell_type": "markdown",
   "metadata": {},
   "source": [
    "### 4.2.2.2. Patients that Showed up to their appointment & didn't show up?"
   ]
  },
  {
   "cell_type": "code",
   "execution_count": 61,
   "metadata": {
    "scrolled": true
   },
   "outputs": [
    {
     "name": "stdout",
     "output_type": "stream",
     "text": [
      "All Patient Number         : 106982\n",
      "Showd up appointments      : 85305 about 80 % \n",
      "Not Showd up appointments  : 21677 about 20 % \n"
     ]
    }
   ],
   "source": [
    "# Calculation for No Show data \n",
    "all_patients = df_medical.no_show.shape[0]\n",
    "not_showed = len(df_medical.query('no_show == \\'Yes\\''))\n",
    "showed_up = len(df_medical.query('no_show == \\'No\\''))\n",
    "showed_ratio = int(round(showed_up / all_patients*100))\n",
    "not_showed_ratio = int(round(not_showed / all_patients*100))\n",
    "\n",
    "print('All Patient Number         : {}'.format(all_patients))\n",
    "print('Showd up appointments      : {} about {} % '.format(showed_up,showed_ratio))\n",
    "print('Not Showd up appointments  : {} about {} % '.format(not_showed,not_showed_ratio))"
   ]
  },
  {
   "cell_type": "markdown",
   "metadata": {},
   "source": [
    "_- That indicates most of the patients (80%), do not miss their appointments._"
   ]
  },
  {
   "cell_type": "code",
   "execution_count": 62,
   "metadata": {
    "scrolled": false
   },
   "outputs": [
    {
     "data": {
      "image/png": "[encoded data removed]",
      "text/plain": [
       "<Figure size 432x288 with 1 Axes>"
      ]
     },
     "metadata": {
      "needs_background": "light"
     },
     "output_type": "display_data"
    }
   ],
   "source": [
    "# No Show data vs sms_received:\n",
    "show_data = sns.countplot(x=df_medical.sms_received, hue=df_medical.no_show, data=df_medical)\n",
    "show_data.set_title(\"No-Show vs SMS Received\")\n",
    "\n",
    "plt.show();"
   ]
  },
  {
   "cell_type": "markdown",
   "metadata": {},
   "source": [
    "- From this chart, it seems that no matter if they received an SMS message or not to attend their appointments. \n",
    "- The number of patients that did not miss their appointments also, did not receive SMS messages."
   ]
  },
  {
   "cell_type": "code",
   "execution_count": 63,
   "metadata": {
    "scrolled": true
   },
   "outputs": [
    {
     "data": {
      "image/png": "[encoded data removed]",
      "text/plain": [
       "<Figure size 1152x360 with 1 Axes>"
      ]
     },
     "metadata": {
      "needs_background": "light"
     },
     "output_type": "display_data"
    }
   ],
   "source": [
    "# relation between case_severity & no_show data\n",
    "plt.figure(figsize = [16,5])\n",
    "show_severity = sns.countplot(x=df_medical.no_show, hue=df_medical.case_severity, data=df_medical)\n",
    "show_severity.set_title(\" No-Show vs Case Severity \")\n",
    "\n",
    "plt.show();"
   ]
  },
  {
   "cell_type": "markdown",
   "metadata": {},
   "source": [
    "- It appears that case severity did not affect on no_show data"
   ]
  },
  {
   "cell_type": "code",
   "execution_count": 64,
   "metadata": {
    "scrolled": false
   },
   "outputs": [
    {
     "data": {
      "image/png": "[encoded data removed]",
      "text/plain": [
       "<Figure size 1152x360 with 1 Axes>"
      ]
     },
     "metadata": {
      "needs_background": "light"
     },
     "output_type": "display_data"
    }
   ],
   "source": [
    "# No Show data vs Patient age\n",
    "plt.figure(figsize = [16,5])\n",
    "show_age = sns.countplot(x=df_medical.age, hue=df_medical.case_severity, data=df_medical)\n",
    "show_age.set_title(\"Patients age vs Case Severity\")\n",
    "plt.show()"
   ]
  },
  {
   "cell_type": "code",
   "execution_count": 65,
   "metadata": {},
   "outputs": [
    {
     "data": {
      "image/png": "[encoded data removed]",
      "text/plain": [
       "<Figure size 1152x360 with 1 Axes>"
      ]
     },
     "metadata": {
      "needs_background": "light"
     },
     "output_type": "display_data"
    }
   ],
   "source": [
    "# case_severity vs Patient age\n",
    "plt.figure(figsize = [16,5])\n",
    "sns.barplot(data=df_medical, x='case_severity', y='age')\n",
    "plt.title(\" Age vs Case Severity \")\n",
    "plt.show()"
   ]
  },
  {
   "cell_type": "markdown",
   "metadata": {},
   "source": [
    "- From both above charts, it appears that case severity increase with going old."
   ]
  },
  {
   "cell_type": "code",
   "execution_count": 66,
   "metadata": {
    "scrolled": true
   },
   "outputs": [
    {
     "data": {
      "image/png": "[encoded data removed]",
      "text/plain": [
       "<Figure size 1152x360 with 1 Axes>"
      ]
     },
     "metadata": {
      "needs_background": "light"
     },
     "output_type": "display_data"
    }
   ],
   "source": [
    "# No Show data against day of week:\n",
    "plt.figure(figsize = [16,5])\n",
    "sns.countplot(x=df_medical.day_of_week, hue=df_medical.no_show, data=df_medical)\n",
    "plt.title(\"No Show data vs Day of Week\")\n",
    "\n",
    "plt.show();"
   ]
  },
  {
   "cell_type": "markdown",
   "metadata": {},
   "source": [
    "- As shown before Tuesday was the most day in several patients for no-show data even it was yes or no."
   ]
  },
  {
   "cell_type": "markdown",
   "metadata": {},
   "source": [
    "### 4.2.3. Which factor affects waiting_time if patient gender, patient age, or case_severity?"
   ]
  },
  {
   "cell_type": "code",
   "execution_count": 67,
   "metadata": {
    "scrolled": true
   },
   "outputs": [
    {
     "data": {
      "image/png": "[encoded data removed]",
      "text/plain": [
       "<Figure size 1152x360 with 1 Axes>"
      ]
     },
     "metadata": {
      "needs_background": "light"
     },
     "output_type": "display_data"
    }
   ],
   "source": [
    "# Case_Severity vs Waiting Time: \n",
    "plt.figure(figsize = [16,5])\n",
    "sns.barplot(data=df_medical, x='case_severity', y='waiting_time')\n",
    "plt.title(\"Waiting Time vs Case Severity\")\n",
    "plt.show()"
   ]
  },
  {
   "cell_type": "markdown",
   "metadata": {},
   "source": [
    "- From the chart above it seems that as case severity increases average waiting time decreases, so we can decide that waiting time is inversely proportional with case severity."
   ]
  },
  {
   "cell_type": "code",
   "execution_count": 68,
   "metadata": {},
   "outputs": [
    {
     "data": {
      "image/png": "[encoded data removed]",
      "text/plain": [
       "<Figure size 1152x360 with 1 Axes>"
      ]
     },
     "metadata": {
      "needs_background": "light"
     },
     "output_type": "display_data"
    }
   ],
   "source": [
    "# Relation between waiting_time & gender of patient\n",
    "plt.figure(figsize = [16,5])\n",
    "sns.barplot(data=df_medical, x='waiting_time', y='gender')\n",
    "plt.show()"
   ]
  },
  {
   "cell_type": "markdown",
   "metadata": {},
   "source": [
    "- It seems that gender of patient affect waiting time as shown in above chart male patient has a waiting time less than female patient."
   ]
  },
  {
   "cell_type": "code",
   "execution_count": 69,
   "metadata": {
    "scrolled": false
   },
   "outputs": [
    {
     "data": {
      "image/png": "[encoded data removed]",
      "text/plain": [
       "<Figure size 1152x360 with 1 Axes>"
      ]
     },
     "metadata": {
      "needs_background": "light"
     },
     "output_type": "display_data"
    }
   ],
   "source": [
    "# Drwing average Patient age aganist patient gender\n",
    "plt.figure(figsize = [16,5])\n",
    "sns.barplot(data=df_medical, x='age', y='gender')\n",
    "plt.show()"
   ]
  },
  {
   "cell_type": "markdown",
   "metadata": {},
   "source": [
    "- Even average age for males (around 35 years) is less than the average age for females (around 40 years), waiting time for males less than it for females."
   ]
  },
  {
   "cell_type": "code",
   "execution_count": 70,
   "metadata": {
    "scrolled": true
   },
   "outputs": [
    {
     "name": "stdout",
     "output_type": "stream",
     "text": [
      "Total Number of Patient Id            : 106982\n",
      "Number of Unique Value for Patient ID :  60268\n"
     ]
    }
   ],
   "source": [
    "print('Total Number of Patient Id            :'  , df_medical.patient_id.shape[0])\n",
    "print('Number of Unique Value for Patient ID : ' , df_medical.patient_id.nunique())"
   ]
  },
  {
   "cell_type": "markdown",
   "metadata": {},
   "source": [
    "- This indicates that some of the patients revisited Hospital more than one time."
   ]
  },
  {
   "cell_type": "code",
   "execution_count": 71,
   "metadata": {},
   "outputs": [
    {
     "data": {
      "text/plain": [
       "822145925426128    88\n",
       "99637671331        84\n",
       "26886125921145     70\n",
       "33534783483176     65\n",
       "75797461494159     62\n",
       "258424392677       62\n",
       "871374938638855    62\n",
       "6264198675331      62\n",
       "66844879846766     57\n",
       "872278549442       55\n",
       "89239687393655     54\n",
       "8435223536         51\n",
       "853439686798559    50\n",
       "65433599726992     46\n",
       "14479974122994     46\n",
       "81894521843749     42\n",
       "9452745294842      42\n",
       "188232341789524    40\n",
       "9496196639835      38\n",
       "2271579924275      38\n",
       "13364929297498     37\n",
       "1484143378533      35\n",
       "88834999836575     34\n",
       "986162815579582    34\n",
       "712458866975343    33\n",
       "416755661551767    30\n",
       "6128878448536      30\n",
       "81213966782532     29\n",
       "8634164126317      24\n",
       "1198157171975      23\n",
       "Name: patient_id, dtype: int64"
      ]
     },
     "execution_count": 71,
     "metadata": {},
     "output_type": "execute_result"
    }
   ],
   "source": [
    "df_medical.patient_id.value_counts().iloc[0:30]"
   ]
  },
  {
   "cell_type": "markdown",
   "metadata": {},
   "source": [
    "> - For the top 30 patients ID, the number of appointments was between 88 to 23, which means a load for medical staff and cruddy to do all checks required in the same day, so this repetition may occur because patients do all checks required in more than one appointment.\n",
    "> - Also, this may be a reason for the No Show data."
   ]
  },
  {
   "cell_type": "markdown",
   "metadata": {},
   "source": [
    "### 4.2.4. Does duplicates in the patient_id column affect data calculation?"
   ]
  },
  {
   "cell_type": "code",
   "execution_count": 72,
   "metadata": {},
   "outputs": [
    {
     "name": "stdout",
     "output_type": "stream",
     "text": [
      "(60268, 17)\n"
     ]
    },
    {
     "data": {
      "text/html": [
       "<div>\n",
       "<style scoped>\n",
       "    .dataframe tbody tr th:only-of-type {\n",
       "        vertical-align: middle;\n",
       "    }\n",
       "\n",
       "    .dataframe tbody tr th {\n",
       "        vertical-align: top;\n",
       "    }\n",
       "\n",
       "    .dataframe thead th {\n",
       "        text-align: right;\n",
       "    }\n",
       "</style>\n",
       "<table border=\"1\" class=\"dataframe\">\n",
       "  <thead>\n",
       "    <tr style=\"text-align: right;\">\n",
       "      <th></th>\n",
       "      <th>patient_id</th>\n",
       "      <th>appointment_id</th>\n",
       "      <th>age</th>\n",
       "      <th>scholarship</th>\n",
       "      <th>hypertension</th>\n",
       "      <th>diabetes</th>\n",
       "      <th>alcoholism</th>\n",
       "      <th>handicap</th>\n",
       "      <th>sms_received</th>\n",
       "      <th>case_severity</th>\n",
       "      <th>waiting_time</th>\n",
       "    </tr>\n",
       "  </thead>\n",
       "  <tbody>\n",
       "    <tr>\n",
       "      <th>count</th>\n",
       "      <td>6.026800e+04</td>\n",
       "      <td>6.026800e+04</td>\n",
       "      <td>60268.000000</td>\n",
       "      <td>60268.000000</td>\n",
       "      <td>60268.000000</td>\n",
       "      <td>60268.000000</td>\n",
       "      <td>60268.000000</td>\n",
       "      <td>60268.000000</td>\n",
       "      <td>60268.000000</td>\n",
       "      <td>60268.000000</td>\n",
       "      <td>60268.000000</td>\n",
       "    </tr>\n",
       "    <tr>\n",
       "      <th>mean</th>\n",
       "      <td>1.470598e+14</td>\n",
       "      <td>5.665281e+06</td>\n",
       "      <td>37.938773</td>\n",
       "      <td>0.095523</td>\n",
       "      <td>0.203109</td>\n",
       "      <td>0.073273</td>\n",
       "      <td>0.024988</td>\n",
       "      <td>0.020757</td>\n",
       "      <td>0.329180</td>\n",
       "      <td>0.322128</td>\n",
       "      <td>10.094611</td>\n",
       "    </tr>\n",
       "    <tr>\n",
       "      <th>std</th>\n",
       "      <td>2.546823e+14</td>\n",
       "      <td>7.404930e+04</td>\n",
       "      <td>22.918272</td>\n",
       "      <td>0.293939</td>\n",
       "      <td>0.402317</td>\n",
       "      <td>0.260586</td>\n",
       "      <td>0.156091</td>\n",
       "      <td>0.157502</td>\n",
       "      <td>0.469919</td>\n",
       "      <td>0.628843</td>\n",
       "      <td>16.394042</td>\n",
       "    </tr>\n",
       "    <tr>\n",
       "      <th>min</th>\n",
       "      <td>3.921700e+04</td>\n",
       "      <td>5.030230e+06</td>\n",
       "      <td>1.000000</td>\n",
       "      <td>0.000000</td>\n",
       "      <td>0.000000</td>\n",
       "      <td>0.000000</td>\n",
       "      <td>0.000000</td>\n",
       "      <td>0.000000</td>\n",
       "      <td>0.000000</td>\n",
       "      <td>0.000000</td>\n",
       "      <td>-2.000000</td>\n",
       "    </tr>\n",
       "    <tr>\n",
       "      <th>25%</th>\n",
       "      <td>4.177386e+12</td>\n",
       "      <td>5.630056e+06</td>\n",
       "      <td>18.000000</td>\n",
       "      <td>0.000000</td>\n",
       "      <td>0.000000</td>\n",
       "      <td>0.000000</td>\n",
       "      <td>0.000000</td>\n",
       "      <td>0.000000</td>\n",
       "      <td>0.000000</td>\n",
       "      <td>0.000000</td>\n",
       "      <td>-1.000000</td>\n",
       "    </tr>\n",
       "    <tr>\n",
       "      <th>50%</th>\n",
       "      <td>3.199151e+13</td>\n",
       "      <td>5.672020e+06</td>\n",
       "      <td>38.000000</td>\n",
       "      <td>0.000000</td>\n",
       "      <td>0.000000</td>\n",
       "      <td>0.000000</td>\n",
       "      <td>0.000000</td>\n",
       "      <td>0.000000</td>\n",
       "      <td>0.000000</td>\n",
       "      <td>0.000000</td>\n",
       "      <td>3.000000</td>\n",
       "    </tr>\n",
       "    <tr>\n",
       "      <th>75%</th>\n",
       "      <td>9.484866e+13</td>\n",
       "      <td>5.715911e+06</td>\n",
       "      <td>56.000000</td>\n",
       "      <td>0.000000</td>\n",
       "      <td>0.000000</td>\n",
       "      <td>0.000000</td>\n",
       "      <td>0.000000</td>\n",
       "      <td>0.000000</td>\n",
       "      <td>1.000000</td>\n",
       "      <td>0.000000</td>\n",
       "      <td>16.000000</td>\n",
       "    </tr>\n",
       "    <tr>\n",
       "      <th>max</th>\n",
       "      <td>9.999816e+14</td>\n",
       "      <td>5.790484e+06</td>\n",
       "      <td>102.000000</td>\n",
       "      <td>1.000000</td>\n",
       "      <td>1.000000</td>\n",
       "      <td>1.000000</td>\n",
       "      <td>1.000000</td>\n",
       "      <td>4.000000</td>\n",
       "      <td>1.000000</td>\n",
       "      <td>5.000000</td>\n",
       "      <td>178.000000</td>\n",
       "    </tr>\n",
       "  </tbody>\n",
       "</table>\n",
       "</div>"
      ],
      "text/plain": [
       "         patient_id  appointment_id           age   scholarship  hypertension  \\\n",
       "count  6.026800e+04    6.026800e+04  60268.000000  60268.000000  60268.000000   \n",
       "mean   1.470598e+14    5.665281e+06     37.938773      0.095523      0.203109   \n",
       "std    2.546823e+14    7.404930e+04     22.918272      0.293939      0.402317   \n",
       "min    3.921700e+04    5.030230e+06      1.000000      0.000000      0.000000   \n",
       "25%    4.177386e+12    5.630056e+06     18.000000      0.000000      0.000000   \n",
       "50%    3.199151e+13    5.672020e+06     38.000000      0.000000      0.000000   \n",
       "75%    9.484866e+13    5.715911e+06     56.000000      0.000000      0.000000   \n",
       "max    9.999816e+14    5.790484e+06    102.000000      1.000000      1.000000   \n",
       "\n",
       "           diabetes    alcoholism      handicap  sms_received  case_severity  \\\n",
       "count  60268.000000  60268.000000  60268.000000  60268.000000   60268.000000   \n",
       "mean       0.073273      0.024988      0.020757      0.329180       0.322128   \n",
       "std        0.260586      0.156091      0.157502      0.469919       0.628843   \n",
       "min        0.000000      0.000000      0.000000      0.000000       0.000000   \n",
       "25%        0.000000      0.000000      0.000000      0.000000       0.000000   \n",
       "50%        0.000000      0.000000      0.000000      0.000000       0.000000   \n",
       "75%        0.000000      0.000000      0.000000      1.000000       0.000000   \n",
       "max        1.000000      1.000000      4.000000      1.000000       5.000000   \n",
       "\n",
       "       waiting_time  \n",
       "count  60268.000000  \n",
       "mean      10.094611  \n",
       "std       16.394042  \n",
       "min       -2.000000  \n",
       "25%       -1.000000  \n",
       "50%        3.000000  \n",
       "75%       16.000000  \n",
       "max      178.000000  "
      ]
     },
     "execution_count": 72,
     "metadata": {},
     "output_type": "execute_result"
    }
   ],
   "source": [
    "df_revised = df_medical.drop_duplicates(subset='patient_id', keep='first', inplace=False, ignore_index=False)\n",
    "print(df_revised.shape)\n",
    "df_revised.describe()"
   ]
  },
  {
   "cell_type": "code",
   "execution_count": 73,
   "metadata": {},
   "outputs": [
    {
     "name": "stdout",
     "output_type": "stream",
     "text": [
      "All Patient Number         : 60268\n",
      "Showd up appointments      : 48463 about 80 % \n",
      "Not Showd up appointments  : 11805 about 20 % \n"
     ]
    }
   ],
   "source": [
    "# Calculation for No Show data \n",
    "all_patients_r = df_revised.no_show.shape[0]\n",
    "n_showed_r = len(df_revised.query('no_show == \\'Yes\\''))\n",
    "showed_up_r = len(df_revised.query('no_show == \\'No\\''))\n",
    "showed_ratio_r = int(round(showed_up / all_patients*100))\n",
    "n_showed_ratio_r = int(round(not_showed / all_patients*100))\n",
    "\n",
    "print('All Patient Number         : {}'.format(all_patients_r))\n",
    "print('Showd up appointments      : {} about {} % '.format(showed_up_r,showed_ratio_r))\n",
    "print('Not Showd up appointments  : {} about {} % '.format(n_showed_r,n_showed_ratio_r))"
   ]
  },
  {
   "cell_type": "markdown",
   "metadata": {},
   "source": [
    "_- From the above calculation, we found that result was the same as before without any difference._"
   ]
  },
  {
   "cell_type": "markdown",
   "metadata": {},
   "source": [
    "## 5. Final Conclusions\n",
    "\n",
    "> - After loading the dataset, wrangling, cleaning, and starting visualization we reach to final conclusion for this data from our opinion may conclusion be different from one to another depending on the method of investigation but I'm sure we will meet at some points.\n",
    "> - To get more accuracy to our investigation we create a new column with the name of case_severity which is the sum of 4 columns (Diabetes, Hypertension, Alcoholism, and Handicap) we think this be more efficient than study individual disease.\n",
    "> \n",
    "> - Finally, let us go to a final conclusion:"
   ]
  },
  {
   "cell_type": "markdown",
   "metadata": {},
   "source": [
    "### 5.1. Limitations of Data\n",
    "\n",
    "1. This data was considered as small data contains only 110527 rows and 14 columns of data, we had 60268 rows if we remove all duplicated data.\n",
    "2. We have incomplete data because there is no column indicating how much time passed between a visit scheduling time & actual visit time.\n",
    "3. Column of appointment_day has no hour specified so we can not calculate waiting_time accurately (estimated from hour in scheduled_day column to 00:00:00 hour in appointed_day).\n",
    "4. For the duplicated visits of some patients we did not know why they revisit the hospital and what test they do in this visit.\n",
    "5. No data enough about how much patients stay in hospital and if they had taken full medical care or had not if patients stay in hospital for a few hours or days.\n",
    "\n",
    "\n",
    "   [back to top](#Table-of-Contents)"
   ]
  },
  {
   "cell_type": "markdown",
   "metadata": {},
   "source": [
    "\n",
    "### 5.2. Conclusions about data\n",
    "\n",
    "1. **Hospitals:** \n",
    "> - Hospitals received patients only six days a week (Monday, Tuesday, Wednesday, Thursday, Friday & Saturday) and it was off on Sunday with zero patients, most days in the patient visit were Tuesday (26168 patients) also, fewer days was Saturday (24 patients only).\n",
    "> - Most visits to hospitals were recorded JARDIM CAMBURI (7586 visits) then MARIA ORTIZ (5563 visits).\n",
    "2. **Patient:** we study the gender and age of patients\n",
    "> - A total number of the patient were 106982 patients count Female patients ( 70113 patients -- 66%), and the count of Male patients were (36869 patients -- 34%).\n",
    "> - The average age for patients was about 38 years old, the youngest patients with age 1 year and oldest one were 102 years only( this after cleaning for outliers in age column).\n",
    "> - From the patient_id column there are revisits for some patients there are 60268 unique values, some patients revisit the hospital up to 88 times.\n",
    "3. **Case Severity:** --column which we create--\n",
    "> - We have six levels for case severity most of the patient were in level 0 (80576 patients) this indicate good healthy habits, also, we had only one patient in level 5, all of this with a good indication for patient health.\n",
    "> - We reach this because most patients were not diabetes, not hypertension, not a handicap, or not alcoholism as shown in Histogram.\n",
    "> - We found that case_severity increase with age and it is natural.\n",
    "\n",
    "\n",
    "\n",
    "   [back to top](#Table-of-Contents)"
   ]
  },
  {
   "cell_type": "markdown",
   "metadata": {},
   "source": [
    "### 5.3. Answer for Questions\n",
    "\n",
    "1. Answer to question (1): which variable affects the response of patients to attend their appointments?\n",
    "> We fount that most of the patient attend their appointments (85305 patients -- 80%), also there are some did not (21677 patient -- 20%), so we need to find reasons for that:\n",
    "> - We found that it no matter the patient received an SMS message or not to attend their appointment because most of the patients did not receive any message.\n",
    "> - Also, case_severity did not affect showing their appointments.\n",
    "> - The only thing that may be the main cause for patients did not show their appointments appear in revisits of patients due to crowded hospital.\n",
    "\n",
    "2. Answer to question (2): which factor affects waiting_time (patient gender, patient age, or case_severity)?\n",
    "> - From the bar chart of case_severity against wating_time, we found that as case_severity increase and average of waiting_time decrease (it seems to be inversely proportional).\n",
    "> - From the bar chart between waiting_time against gender, we can not decide that gender affects waiting_time because counts of females more than male by huge counts near to be double of it.\n",
    "> - Also for age, it is not logical that males with an average age of about 35 years old had less waiting_time than females with an average age of about 40 years old.\n",
    ">\n",
    "> Finally, we can say that case_severity only factor that affects waiting_time.\n",
    "\n",
    "3. Answer to question (3): does duplicates in the patient_id column affect data calculation?\n",
    "> - For this, we dropped all duplicated values from the data frame and recalculate some statics we found that no big change in the data percent of Females still 80% and males still 20%.\n",
    "> - Slight difference in age average it was 38.3 years before delete duplicate values it was 37.94 years after. we can ignore that difference.\n",
    "\n",
    "\n",
    "   [back to top](#Table-of-Contents)"
   ]
  },
  {
   "cell_type": "code",
   "execution_count": null,
   "metadata": {},
   "outputs": [],
   "source": []
  }
 ],
 "metadata": {
  "kernelspec": {
   "display_name": "Python 3",
   "language": "python",
   "name": "python3"
  },
  "language_info": {
   "codemirror_mode": {
    "name": "ipython",
    "version": 3
   },
   "file_extension": ".py",
   "mimetype": "text/x-python",
   "name": "python",
   "nbconvert_exporter": "python",
   "pygments_lexer": "ipython3",
   "version": "3.8.8"
  }
 },
 "nbformat": 4,
 "nbformat_minor": 2
}
